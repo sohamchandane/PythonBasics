{
 "cells": [
  {
   "cell_type": "code",
   "execution_count": 1,
   "id": "37b3f0aa-f432-468f-af1b-7616bfdd130b",
   "metadata": {},
   "outputs": [],
   "source": [
    "import json"
   ]
  },
  {
   "cell_type": "code",
   "execution_count": 2,
   "id": "05d9af15-5533-4939-befc-0be31dc3f437",
   "metadata": {},
   "outputs": [],
   "source": [
    "user = '{\"fname\":\"John\", \"lname\":\"Smith\", \"age\":30}'\n",
    "u = json.loads(user)"
   ]
  },
  {
   "cell_type": "code",
   "execution_count": 3,
   "id": "e00b64ff-67cd-4cb0-919a-cec4d0ef44d5",
   "metadata": {},
   "outputs": [
    {
     "name": "stdout",
     "output_type": "stream",
     "text": [
      "{'fname': 'John', 'lname': 'Smith', 'age': 30}\n"
     ]
    }
   ],
   "source": [
    "print(u)"
   ]
  },
  {
   "cell_type": "code",
   "execution_count": 4,
   "id": "8a9b47d1-dc64-473d-990d-734146d0bad4",
   "metadata": {},
   "outputs": [
    {
     "name": "stdout",
     "output_type": "stream",
     "text": [
      "{\"fname\":\"John\", \"lname\":\"Smith\", \"age\":30}\n"
     ]
    }
   ],
   "source": [
    "print(user)"
   ]
  },
  {
   "cell_type": "code",
   "execution_count": 5,
   "id": "0e8dc7d3-6bdd-4801-811a-5a9bbd9b6a6b",
   "metadata": {},
   "outputs": [
    {
     "name": "stdout",
     "output_type": "stream",
     "text": [
      "John\n"
     ]
    }
   ],
   "source": [
    "print(u['fname'])"
   ]
  },
  {
   "cell_type": "code",
   "execution_count": 6,
   "id": "7dc40ac6-3fab-46b7-b570-93b0020a86b3",
   "metadata": {},
   "outputs": [],
   "source": [
    "d = {'a':12,'b':23,'c':34}"
   ]
  },
  {
   "cell_type": "code",
   "execution_count": 7,
   "id": "0d737a7e-fb69-416f-ab7d-41cd400f6b8a",
   "metadata": {},
   "outputs": [
    {
     "name": "stdout",
     "output_type": "stream",
     "text": [
      "{'a': 12, 'b': 23, 'c': 34} <class 'dict'>\n",
      "{\"a\": 12, \"b\": 23, \"c\": 34} <class 'str'>\n"
     ]
    }
   ],
   "source": [
    "data = json.dumps(d)\n",
    "print(d, type(d))\n",
    "print(data, type(data))"
   ]
  },
  {
   "cell_type": "code",
   "execution_count": null,
   "id": "0f2058ee-13ab-491b-a631-9d9d1d8aca90",
   "metadata": {},
   "outputs": [],
   "source": []
  }
 ],
 "metadata": {
  "kernelspec": {
   "display_name": "Python 3 (ipykernel)",
   "language": "python",
   "name": "python3"
  },
  "language_info": {
   "codemirror_mode": {
    "name": "ipython",
    "version": 3
   },
   "file_extension": ".py",
   "mimetype": "text/x-python",
   "name": "python",
   "nbconvert_exporter": "python",
   "pygments_lexer": "ipython3",
   "version": "3.12.4"
  }
 },
 "nbformat": 4,
 "nbformat_minor": 5
}
