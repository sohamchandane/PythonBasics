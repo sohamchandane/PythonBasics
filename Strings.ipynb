{
 "cells": [
  {
   "cell_type": "code",
   "execution_count": 1,
   "id": "0007150a-3552-47d4-ab0d-45a19a7758f2",
   "metadata": {},
   "outputs": [
    {
     "name": "stdout",
     "output_type": "stream",
     "text": [
      "John <class 'str'>\n",
      "19 <class 'int'>\n"
     ]
    }
   ],
   "source": [
    "name = \"John\"\n",
    "age = 19\n",
    "print(name, type(name))\n",
    "print(age, type(age))"
   ]
  },
  {
   "cell_type": "code",
   "execution_count": 3,
   "id": "0a36a1b6-417e-406d-b615-1a98e9cc93ca",
   "metadata": {},
   "outputs": [
    {
     "name": "stdout",
     "output_type": "stream",
     "text": [
      "My name is John and I am 19 years old\n"
     ]
    }
   ],
   "source": [
    "print(\"My name is \" + name + \" and I am \" + str(age) + \" years old\")"
   ]
  },
  {
   "cell_type": "code",
   "execution_count": 5,
   "id": "232411e7-327c-4152-8079-83a399719b42",
   "metadata": {},
   "outputs": [
    {
     "name": "stdout",
     "output_type": "stream",
     "text": [
      "My name is John and I am 19 years old\n"
     ]
    }
   ],
   "source": [
    "print(\"My name is {name} and I am {age} years old\".format(name=name, age=age))"
   ]
  },
  {
   "cell_type": "code",
   "execution_count": 6,
   "id": "14fd6d3a-803a-47c8-b70b-daf0f0efa714",
   "metadata": {},
   "outputs": [
    {
     "name": "stdout",
     "output_type": "stream",
     "text": [
      "My name is John and I am 19 years old\n"
     ]
    }
   ],
   "source": [
    "print(f\"My name is {name} and I am {age} years old\")"
   ]
  },
  {
   "cell_type": "code",
   "execution_count": 7,
   "id": "b0b69d66-cd29-44cc-869b-93f3a7bb89d5",
   "metadata": {},
   "outputs": [],
   "source": [
    "s = 'Amazing news'"
   ]
  },
  {
   "cell_type": "code",
   "execution_count": 8,
   "id": "af241dea-5477-4831-9cbf-b10aa9730d49",
   "metadata": {},
   "outputs": [
    {
     "name": "stdout",
     "output_type": "stream",
     "text": [
      "12\n"
     ]
    }
   ],
   "source": [
    "#1. len() - length of string\n",
    "print(len(s))"
   ]
  },
  {
   "cell_type": "code",
   "execution_count": 9,
   "id": "343e9e6c-80ef-4a2c-a818-8af61de84995",
   "metadata": {},
   "outputs": [
    {
     "name": "stdout",
     "output_type": "stream",
     "text": [
      "I love india\n"
     ]
    }
   ],
   "source": [
    "#2. capitalize() - 1st letter capital\n",
    "d = 'i love india'\n",
    "print(d.capitalize())"
   ]
  },
  {
   "cell_type": "code",
   "execution_count": 10,
   "id": "278dbaf2-73d3-4098-a5df-270a4541f8ee",
   "metadata": {},
   "outputs": [
    {
     "name": "stdout",
     "output_type": "stream",
     "text": [
      "I Love India\n"
     ]
    }
   ],
   "source": [
    "#3. title() - All 1st letters of words = capital\n",
    "print(d.title())"
   ]
  },
  {
   "cell_type": "code",
   "execution_count": 11,
   "id": "7bff7c76-9b70-48cf-8ece-b06a50bbe550",
   "metadata": {},
   "outputs": [
    {
     "name": "stdout",
     "output_type": "stream",
     "text": [
      "11\n",
      "-1\n"
     ]
    }
   ],
   "source": [
    "#4. find(substr,start,end) - Finds 1st index where the given letter/str is present, -1 if absent\n",
    "print(d.find('a'))\n",
    "print(d.find('z'))"
   ]
  },
  {
   "cell_type": "code",
   "execution_count": 12,
   "id": "5f8adecc-8469-4b1d-9b12-f83084f8dae5",
   "metadata": {},
   "outputs": [
    {
     "name": "stdout",
     "output_type": "stream",
     "text": [
      "2\n"
     ]
    }
   ],
   "source": [
    "#5. index(substr,start,end) - Finds 1st index where the given letter/str is present, error if absent\n",
    "print(d.find('l'))"
   ]
  },
  {
   "cell_type": "code",
   "execution_count": 29,
   "id": "b18c6ca1-78bd-4ab9-91f0-cf28a99e243a",
   "metadata": {},
   "outputs": [
    {
     "name": "stdout",
     "output_type": "stream",
     "text": [
      "False\n",
      "False\n",
      "\n"
     ]
    }
   ],
   "source": [
    "#6. isalnum() - True if string has alphabets or numbers\n",
    "print(d.isalnum())\n",
    "print(s.isalnum())\n",
    "print()"
   ]
  },
  {
   "cell_type": "code",
   "execution_count": 15,
   "id": "095d7856-99bd-4d5b-adbb-ccba7f450339",
   "metadata": {},
   "outputs": [
    {
     "name": "stdout",
     "output_type": "stream",
     "text": [
      "False\n",
      "False\n"
     ]
    }
   ],
   "source": [
    "#7. isalpha() - True if string has only alpha\n",
    "print(d.isalpha())\n",
    "print(s.isalpha())"
   ]
  },
  {
   "cell_type": "code",
   "execution_count": 16,
   "id": "c2f26d55-f3bc-4cf4-b6be-c86b42e70322",
   "metadata": {},
   "outputs": [
    {
     "name": "stdout",
     "output_type": "stream",
     "text": [
      "False\n",
      "False\n"
     ]
    }
   ],
   "source": [
    "#8. isdigit() - True if string has only nums\n",
    "print(d.isdigit())\n",
    "print(s.isdigit())"
   ]
  },
  {
   "cell_type": "code",
   "execution_count": 17,
   "id": "8068735d-c1e9-4d89-ac37-46ce51cda94d",
   "metadata": {},
   "outputs": [
    {
     "name": "stdout",
     "output_type": "stream",
     "text": [
      "True\n"
     ]
    }
   ],
   "source": [
    "#9. isupper() - Checks if all alphabets = Uppercase\n",
    "print('HEL@#LO123'.isupper())"
   ]
  },
  {
   "cell_type": "code",
   "execution_count": 18,
   "id": "734b0dca-05d6-46f9-baab-65b74a135af6",
   "metadata": {},
   "outputs": [
    {
     "name": "stdout",
     "output_type": "stream",
     "text": [
      "True\n"
     ]
    }
   ],
   "source": [
    "#10. islower() - Checks if all alphabets = Lowercase\n",
    "print('hello1234567@'.islower())"
   ]
  },
  {
   "cell_type": "code",
   "execution_count": 19,
   "id": "a53a7b40-25b4-41d2-8064-f322585c6c32",
   "metadata": {},
   "outputs": [
    {
     "name": "stdout",
     "output_type": "stream",
     "text": [
      "amazing news\n"
     ]
    }
   ],
   "source": [
    "#11. lower() - converts to lowercase\n",
    "print(s.lower())"
   ]
  },
  {
   "cell_type": "code",
   "execution_count": 20,
   "id": "0ddbf25d-d1f7-4c78-9b53-2394f5006235",
   "metadata": {},
   "outputs": [
    {
     "name": "stdout",
     "output_type": "stream",
     "text": [
      "I LOVE INDIA\n"
     ]
    }
   ],
   "source": [
    "#12. upper() - Converts to uppercase\n",
    "print(d.upper())"
   ]
  },
  {
   "cell_type": "code",
   "execution_count": 21,
   "id": "3c3360ce-de2e-4dfb-b105-b8306b86533f",
   "metadata": {},
   "outputs": [
    {
     "name": "stdout",
     "output_type": "stream",
     "text": [
      "False\n"
     ]
    }
   ],
   "source": [
    "#13. startswith(substr,start,end) - Checks if given string starts with given substring\n",
    "print(d.startswith('a'))"
   ]
  },
  {
   "cell_type": "code",
   "execution_count": 22,
   "id": "327f5fc8-6ab3-49ca-9e88-cb0cb730949a",
   "metadata": {},
   "outputs": [
    {
     "name": "stdout",
     "output_type": "stream",
     "text": [
      "True\n"
     ]
    }
   ],
   "source": [
    "#14. endswith(substr,start,end) - Checks if given string ends with given substring\n",
    "print(d.endswith('a'))"
   ]
  },
  {
   "cell_type": "code",
   "execution_count": 23,
   "id": "ec581dd8-64c3-4f04-bde2-c5ec5389f48b",
   "metadata": {},
   "outputs": [
    {
     "name": "stdout",
     "output_type": "stream",
     "text": [
      "i12love12india\n"
     ]
    }
   ],
   "source": [
    "#15. replace() -  Replaces the substring with new one\n",
    "print(d.replace(' ','12'))"
   ]
  },
  {
   "cell_type": "code",
   "execution_count": 24,
   "id": "2b2e9cd2-5e0b-4b55-9d88-f76868f98f7c",
   "metadata": {},
   "outputs": [
    {
     "name": "stdout",
     "output_type": "stream",
     "text": [
      "i* *l*o*v*e* *i*n*d*i*a\n",
      "hello* *bye\n"
     ]
    }
   ],
   "source": [
    "#16. join() - Joins external string to given\n",
    "print('*'.join(d))\n",
    "print('*'.join(['hello',' ' ,'bye']))"
   ]
  },
  {
   "cell_type": "code",
   "execution_count": 25,
   "id": "9dfc20c0-ee19-4483-8213-961700e1de9c",
   "metadata": {},
   "outputs": [
    {
     "name": "stdout",
     "output_type": "stream",
     "text": [
      "['i', 'love', 'india']\n"
     ]
    }
   ],
   "source": [
    "#17. split() - Splits the given string at given substring into a list\n",
    "print(d.split(' '))"
   ]
  },
  {
   "cell_type": "code",
   "execution_count": 26,
   "id": "4f107e59-d028-4caf-b0d2-794e00801146",
   "metadata": {},
   "outputs": [
    {
     "name": "stdout",
     "output_type": "stream",
     "text": [
      "('i', ' ', 'love india')\n"
     ]
    }
   ],
   "source": [
    "#18. partition() - Splits the string at given substring ONLY AT FIRST OCCURENCE, len of list is always = 3\n",
    "print(d.partition(' '))"
   ]
  },
  {
   "cell_type": "code",
   "execution_count": 27,
   "id": "82c4c358-406b-4cd9-8dc4-693d07f488f7",
   "metadata": {},
   "outputs": [
    {
     "name": "stdout",
     "output_type": "stream",
     "text": [
      "i lOVE iNDIA\n"
     ]
    }
   ],
   "source": [
    "#19. swapcase() - Swaps upper to lower and lower to upper case\n",
    "print(d.title().swapcase())"
   ]
  },
  {
   "cell_type": "code",
   "execution_count": 28,
   "id": "7e386217-e9f8-48e7-aa30-2c502d915860",
   "metadata": {},
   "outputs": [
    {
     "name": "stdout",
     "output_type": "stream",
     "text": [
      "2\n"
     ]
    }
   ],
   "source": [
    "#20. count(substr,start,end) - Counts substr\n",
    "print(d.count(' '))"
   ]
  },
  {
   "cell_type": "code",
   "execution_count": 30,
   "id": "1c6daab9-ddb4-451b-aa61-2b1cf5c177fb",
   "metadata": {},
   "outputs": [
    {
     "name": "stdout",
     "output_type": "stream",
     "text": [
      "aidni evol i\n"
     ]
    }
   ],
   "source": [
    "#Reverse a string\n",
    "print(d[::-1])"
   ]
  }
 ],
 "metadata": {
  "kernelspec": {
   "display_name": "Python 3 (ipykernel)",
   "language": "python",
   "name": "python3"
  },
  "language_info": {
   "codemirror_mode": {
    "name": "ipython",
    "version": 3
   },
   "file_extension": ".py",
   "mimetype": "text/x-python",
   "name": "python",
   "nbconvert_exporter": "python",
   "pygments_lexer": "ipython3",
   "version": "3.12.4"
  }
 },
 "nbformat": 4,
 "nbformat_minor": 5
}
