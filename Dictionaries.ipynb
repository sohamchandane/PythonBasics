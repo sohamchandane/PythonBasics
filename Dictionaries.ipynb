{
 "cells": [
  {
   "cell_type": "code",
   "execution_count": 1,
   "id": "16886c2b-d982-4d0b-8f13-b645bd838f38",
   "metadata": {},
   "outputs": [
    {
     "name": "stdout",
     "output_type": "stream",
     "text": [
      "{'username': 'PizZaBOi', 'email': 'abc.xyz@gmail.com', 'pfp': False} <class 'dict'> 2208411882880\n"
     ]
    }
   ],
   "source": [
    "d = {\"username\":\"PizZaBOi\", \"email\":\"abc.xyz@gmail.com\", \"pfp\":False}\n",
    "print(d, type(d), id(d))"
   ]
  },
  {
   "cell_type": "code",
   "execution_count": 4,
   "id": "95414d83-60c4-4565-955b-a7a335454869",
   "metadata": {},
   "outputs": [
    {
     "name": "stdout",
     "output_type": "stream",
     "text": [
      "{'name': 'PizZaBOi', 'altname': False} <class 'dict'> 2208433556224\n"
     ]
    }
   ],
   "source": [
    "d2 = dict(name=\"PizZaBOi\", altname=False)\n",
    "print(d2, type(d2), id(d2))"
   ]
  },
  {
   "cell_type": "code",
   "execution_count": 5,
   "id": "eae820e8-b274-4c7a-9b64-7cf8fbbde276",
   "metadata": {},
   "outputs": [
    {
     "name": "stdout",
     "output_type": "stream",
     "text": [
      "{'username': 'PizZaBOi', 'email': 'abc.xyz@gmail.com', 'pfp': False}\n"
     ]
    }
   ],
   "source": [
    "print(d)"
   ]
  },
  {
   "cell_type": "code",
   "execution_count": 6,
   "id": "35022d3d-1b7c-4789-856a-526f19f7396c",
   "metadata": {},
   "outputs": [
    {
     "name": "stdout",
     "output_type": "stream",
     "text": [
      "{'username': 'PizZaBOi', 'email': 'abc.xyz@gmail.com', 'pfp': False, 'age': 19}\n"
     ]
    }
   ],
   "source": [
    "d[\"age\"] = 19\n",
    "print(d)"
   ]
  },
  {
   "cell_type": "code",
   "execution_count": 7,
   "id": "ce201d96-f3f8-4f07-8fbd-6cd1a0cc1e27",
   "metadata": {},
   "outputs": [
    {
     "name": "stdout",
     "output_type": "stream",
     "text": [
      "PizZaBOi\n"
     ]
    }
   ],
   "source": [
    "print(d[\"username\"])"
   ]
  },
  {
   "cell_type": "code",
   "execution_count": 8,
   "id": "f76bebac-4051-4d90-b979-8eace850df67",
   "metadata": {},
   "outputs": [
    {
     "name": "stdout",
     "output_type": "stream",
     "text": [
      "{'a': 12, 'b': 23, 'c': 34} <class 'dict'> 2208433414016\n"
     ]
    }
   ],
   "source": [
    "d3 = dict(zip([\"a\",\"b\",'c'],[12,23,34]))\n",
    "print(d3, type(d3), id(d3))"
   ]
  },
  {
   "cell_type": "code",
   "execution_count": 9,
   "id": "8d9b364f-f966-462b-ad97-ef64960c443a",
   "metadata": {},
   "outputs": [
    {
     "name": "stdout",
     "output_type": "stream",
     "text": [
      "4\n"
     ]
    }
   ],
   "source": [
    "#1. len() - Length\n",
    "print(len(d))"
   ]
  },
  {
   "cell_type": "code",
   "execution_count": 12,
   "id": "b94f08e2-bd65-4ec0-9dc5-51a7d5c1c13b",
   "metadata": {},
   "outputs": [
    {
     "name": "stdout",
     "output_type": "stream",
     "text": [
      "abc.xyz@gmail.com\n",
      "abc.xyz@gmail.com\n"
     ]
    }
   ],
   "source": [
    "#2. get() - gets values of a key\n",
    "print(d.get('email'))\n",
    "    #EQUIVALENT TO\n",
    "print(d['email'])"
   ]
  },
  {
   "cell_type": "code",
   "execution_count": 13,
   "id": "87acd981-0592-44b6-b993-fdfd20de80f2",
   "metadata": {},
   "outputs": [
    {
     "name": "stdout",
     "output_type": "stream",
     "text": [
      "dict_items([('username', 'PizZaBOi'), ('email', 'abc.xyz@gmail.com'), ('pfp', False), ('age', 19)])\n",
      "('username', 'PizZaBOi')\n",
      "('email', 'abc.xyz@gmail.com')\n",
      "('pfp', False)\n",
      "('age', 19)\n"
     ]
    }
   ],
   "source": [
    "#3. items() - gives all the key,value pairs in their independent tuples\n",
    "print(d.items())\n",
    "for x in d.items():\n",
    "    print(x)"
   ]
  },
  {
   "cell_type": "code",
   "execution_count": 14,
   "id": "14f6b187-c1dd-4ad5-9ad0-a770cd5e9777",
   "metadata": {},
   "outputs": [
    {
     "name": "stdout",
     "output_type": "stream",
     "text": [
      "dict_keys(['username', 'email', 'pfp', 'age'])\n",
      "username\n",
      "email\n",
      "pfp\n",
      "age\n"
     ]
    }
   ],
   "source": [
    "#4. keys() - gives list of all keys\n",
    "print(d.keys())\n",
    "for x in d.keys():\n",
    "    print(x)"
   ]
  },
  {
   "cell_type": "code",
   "execution_count": 15,
   "id": "d149e71d-bd1d-4551-ae3e-55c2c8bc7252",
   "metadata": {},
   "outputs": [
    {
     "name": "stdout",
     "output_type": "stream",
     "text": [
      "dict_values(['PizZaBOi', 'abc.xyz@gmail.com', False, 19])\n",
      "PizZaBOi\n",
      "abc.xyz@gmail.com\n",
      "False\n",
      "19\n"
     ]
    }
   ],
   "source": [
    "#5. values() = gives list of all values\n",
    "print(d.values())\n",
    "for x in d.values():\n",
    "    print(x)"
   ]
  },
  {
   "cell_type": "code",
   "execution_count": 16,
   "id": "5a0c3bca-3f29-4fad-94dd-c628c9e47a05",
   "metadata": {},
   "outputs": [
    {
     "name": "stdout",
     "output_type": "stream",
     "text": [
      "{12: 'common value', 23: 'common value', 34: 'common value'}\n"
     ]
    }
   ],
   "source": [
    "#6. dict.fromkeys(x,y) - Assigns common value 'y' to all the values of the sequence 'x'\n",
    "n = d.fromkeys([12,23,34],'common value')\n",
    "print(n)"
   ]
  },
  {
   "cell_type": "code",
   "execution_count": 17,
   "id": "1d473f97-7791-4a80-b532-c196e0b68de4",
   "metadata": {},
   "outputs": [
    {
     "name": "stdout",
     "output_type": "stream",
     "text": [
      "{112: 'common value', 213: 'common value', 314: 'common value'}\n"
     ]
    }
   ],
   "source": [
    "n2 = dict.fromkeys([112,213,314],'common value')\n",
    "print(n2)"
   ]
  },
  {
   "cell_type": "code",
   "execution_count": 18,
   "id": "baa2648f-ae8b-4535-a07f-00c3a5508e4a",
   "metadata": {},
   "outputs": [
    {
     "name": "stdout",
     "output_type": "stream",
     "text": [
      "{'username': 'PizZaBOi', 'email': 'abc.xyz@gmail.com', 'pfp': False, 'age': 19, 'table': 3}\n"
     ]
    }
   ],
   "source": [
    "#7. setdefault() - Adds new key:value pair to the ditionary if key is unique, else no change\n",
    "d.setdefault('table',3)\n",
    "print(d)"
   ]
  },
  {
   "cell_type": "code",
   "execution_count": 19,
   "id": "7b6bec1f-7dff-4f05-8be7-139be24987e9",
   "metadata": {},
   "outputs": [
    {
     "name": "stdout",
     "output_type": "stream",
     "text": [
      "{'username': 'PizZaBOi', 'email': 'abc.xyz@gmail.com', 'pfp': False, 'age': 19, 'table': 3, 12: 'common value', 23: 'common value', 34: 'common value'}\n",
      "\n",
      "{12: 'common value', 23: 'common value', 34: 'common value'}\n"
     ]
    }
   ],
   "source": [
    "#8. update() - Merges key:value pair from new dictionary into original\n",
    "d.update(n)\n",
    "print(d, n, sep=\"\\n\\n\")"
   ]
  },
  {
   "cell_type": "code",
   "execution_count": 20,
   "id": "f38300f4-3f7e-4eb6-9403-83427b6ab0e6",
   "metadata": {},
   "outputs": [
    {
     "name": "stdout",
     "output_type": "stream",
     "text": [
      "3\n",
      "{'username': 'PizZaBOi', 'email': 'abc.xyz@gmail.com', 'pfp': False, 'age': 19, 12: 'common value', 23: 'common value', 34: 'common value'}\n",
      "common value\n",
      "{'username': 'PizZaBOi', 'email': 'abc.xyz@gmail.com', 'pfp': False, 'age': 19, 23: 'common value', 34: 'common value'}\n"
     ]
    }
   ],
   "source": [
    "#9. pop() - Removes key:value pair, given input in key along with a custom message if key is absent\n",
    "print(d.pop('table', 'key not found for table'))\n",
    "print(d)\n",
    "\n",
    "print(d.pop(12, 'key not found for 12'))\n",
    "print(d)"
   ]
  },
  {
   "cell_type": "code",
   "execution_count": 21,
   "id": "5259f1e2-26f0-47e5-adc5-395de73032a2",
   "metadata": {},
   "outputs": [
    {
     "name": "stdout",
     "output_type": "stream",
     "text": [
      "key not found for new table\n",
      "{'username': 'PizZaBOi', 'email': 'abc.xyz@gmail.com', 'pfp': False, 'age': 19, 23: 'common value', 34: 'common value'}\n"
     ]
    }
   ],
   "source": [
    "print(d.pop('new table', 'key not found for new table'))\n",
    "print(d)"
   ]
  },
  {
   "cell_type": "code",
   "execution_count": 22,
   "id": "17d41fcc-e48e-4c14-8c3b-24f5b2e15bc0",
   "metadata": {},
   "outputs": [
    {
     "name": "stdout",
     "output_type": "stream",
     "text": [
      "(34, 'common value')\n",
      "{'username': 'PizZaBOi', 'email': 'abc.xyz@gmail.com', 'pfp': False, 'age': 19, 23: 'common value'}\n"
     ]
    }
   ],
   "source": [
    "#10. popitem() - Removes last entered key:value pair in form of tuple, error if dict in empty\n",
    "print(d.popitem())\n",
    "print(d)"
   ]
  }
 ],
 "metadata": {
  "kernelspec": {
   "display_name": "Python 3 (ipykernel)",
   "language": "python",
   "name": "python3"
  },
  "language_info": {
   "codemirror_mode": {
    "name": "ipython",
    "version": 3
   },
   "file_extension": ".py",
   "mimetype": "text/x-python",
   "name": "python",
   "nbconvert_exporter": "python",
   "pygments_lexer": "ipython3",
   "version": "3.12.4"
  }
 },
 "nbformat": 4,
 "nbformat_minor": 5
}
