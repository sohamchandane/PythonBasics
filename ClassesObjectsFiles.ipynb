{
 "cells": [
  {
   "cell_type": "code",
   "execution_count": 1,
   "id": "fe7867c0-d146-430b-993c-43cc5981d95a",
   "metadata": {},
   "outputs": [],
   "source": [
    "class fileMani:\n",
    "    def __init__(self, filename, text):\n",
    "        self.filename = filename\n",
    "        self.text = self.fileContent = text\n",
    "\n",
    "        self.f = open(f\"{filename}.txt\", \"w\")\n",
    "        self.f.write(self.text)\n",
    "        self.f.close()\n",
    "        \n",
    "    def writeFile(self, text):\n",
    "        self.f = open(f\"{self.filename}.txt\", \"a+\")\n",
    "        self.f.write(text)\n",
    "        self.f.close()\n",
    "\n",
    "    def readFile(self):\n",
    "        self.f = open(f\"{self.filename}.txt\", \"r\")\n",
    "        self.fileContent = self.f.read()\n",
    "        self.f.close()\n",
    "        return self.fileContent\n",
    "\n",
    "    def eraseFile(self):\n",
    "        self.f = open(f\"{self.filename}.txt\", \"w\")\n",
    "        self.text = ''\n",
    "        self.f.write(self.text)\n",
    "        self.f.close()\n",
    "    \n",
    "    def readFileLines(self):\n",
    "        self.f = open(f\"{self.filename}.txt\", \"r\")\n",
    "        self.fileLines = self.f.readlines()\n",
    "        self.f.close()\n",
    "        return self.fileLines\n",
    "    \n",
    "    def fileReplace(self, old, new):\n",
    "        self.readFile()\n",
    "        self.fileContent = self.fileContent.replace(old, new)\n",
    "        self.eraseFile()\n",
    "        self.writeFile(self.fileContent)\n",
    "\n",
    "    def fileDelLine(self, line):\n",
    "        self.readFileLines()\n",
    "        self.fileLines.pop(line-1)\n",
    "        self.eraseFile()\n",
    "        self.text = ''.join(LINE for LINE in self.fileLines)\n",
    "        self.writeFile(self.text)\n",
    "\n",
    "    def fileInsertLine(self, line, lineText):\n",
    "        self.readFileLines()\n",
    "        self.fileLines.insert(line-1, lineText+\"\\n\")\n",
    "        self.eraseFile()\n",
    "        self.text = ''.join(LINE for LINE in self.fileLines)\n",
    "        self.writeFile(self.text)"
   ]
  },
  {
   "cell_type": "code",
   "execution_count": 2,
   "id": "011af154-ed9b-4514-bdb7-2ee98a666cad",
   "metadata": {},
   "outputs": [],
   "source": [
    "fileObj = fileMani(text = \"Hello World\", filename = \"newFile\")\n",
    "fileObj.writeFile(\"\\nHello\")\n",
    "fileObj.writeFile(\"\\nApple\")\n",
    "fileObj.writeFile(\"\\nBanana\")\n",
    "fileObj.writeFile(\"\\nSpaghetti\")\n",
    "\n",
    "fileObj.fileReplace(\"Apple\", \"Mango\")\n",
    "fileObj.fileInsertLine(2, \"LOL LOL LOL\")\n",
    "fileObj.fileDelLine(1)\n",
    "fileObj.fileInsertLine(3, \"\\tMeow\")"
   ]
  }
 ],
 "metadata": {
  "kernelspec": {
   "display_name": "Python 3 (ipykernel)",
   "language": "python",
   "name": "python3"
  },
  "language_info": {
   "codemirror_mode": {
    "name": "ipython",
    "version": 3
   },
   "file_extension": ".py",
   "mimetype": "text/x-python",
   "name": "python",
   "nbconvert_exporter": "python",
   "pygments_lexer": "ipython3",
   "version": "3.12.4"
  }
 },
 "nbformat": 4,
 "nbformat_minor": 5
}
