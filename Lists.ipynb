{
 "cells": [
  {
   "cell_type": "code",
   "execution_count": 2,
   "id": "c2c84cd0-baa0-45c2-9b10-df9163f85fe4",
   "metadata": {},
   "outputs": [
    {
     "name": "stdout",
     "output_type": "stream",
     "text": [
      "[12, 23, 34, 45, 56, 32, 123]\n"
     ]
    }
   ],
   "source": [
    "l = list((12,23,34,45,56,32,123))\n",
    "print(l)"
   ]
  },
  {
   "cell_type": "code",
   "execution_count": 3,
   "id": "a78dd7c6-2ffc-4eb2-8944-219ec085912f",
   "metadata": {},
   "outputs": [
    {
     "name": "stdout",
     "output_type": "stream",
     "text": [
      "[11, 22, 33, 44]\n"
     ]
    }
   ],
   "source": [
    "l = [11,22,33,44]\n",
    "print(l)"
   ]
  },
  {
   "cell_type": "code",
   "execution_count": 4,
   "id": "9311595f-7c53-48ea-8df7-ab06336c256f",
   "metadata": {},
   "outputs": [
    {
     "name": "stdout",
     "output_type": "stream",
     "text": [
      "[11, 22, 33, 44, 12, 23]\n"
     ]
    }
   ],
   "source": [
    "l = l + [12,23]\n",
    "print(l)"
   ]
  },
  {
   "cell_type": "code",
   "execution_count": 5,
   "id": "327be6da-ee7e-442b-90c7-10a7552ed83a",
   "metadata": {},
   "outputs": [
    {
     "name": "stdout",
     "output_type": "stream",
     "text": [
      "[11, 22, 33, 44, 12, 23] [11, 22, 33, 44, 12, 23] [11, 22, 33, 44, 12, 23]\n"
     ]
    }
   ],
   "source": [
    "l2 = l\n",
    "l3 = l.copy()\n",
    "print(l, l2, l3)"
   ]
  },
  {
   "cell_type": "code",
   "execution_count": 6,
   "id": "ab26ec39-09b3-42b0-b1ae-9ff9485b188a",
   "metadata": {},
   "outputs": [
    {
     "name": "stdout",
     "output_type": "stream",
     "text": [
      "True True True\n"
     ]
    }
   ],
   "source": [
    "print(l == l2, l == l3, l2 == l3)"
   ]
  },
  {
   "cell_type": "code",
   "execution_count": 7,
   "id": "806c5657-7021-4fee-ad49-cdf95f1b0690",
   "metadata": {},
   "outputs": [
    {
     "name": "stdout",
     "output_type": "stream",
     "text": [
      "True False False\n"
     ]
    }
   ],
   "source": [
    "print(id(l) == id(l2), id(l) == id(l3), id(l2) == id(l3))"
   ]
  },
  {
   "cell_type": "code",
   "execution_count": 8,
   "id": "5b8c2a24-e026-4e8d-b76b-71ebfaab2829",
   "metadata": {},
   "outputs": [
    {
     "name": "stdout",
     "output_type": "stream",
     "text": [
      "1614222606912 1614222606912 1614222507648\n"
     ]
    }
   ],
   "source": [
    "print(id(l), id(l2), id(l3))"
   ]
  },
  {
   "cell_type": "code",
   "execution_count": 9,
   "id": "21fbda28-31ed-4170-a3b4-a8524493f6b5",
   "metadata": {},
   "outputs": [],
   "source": [
    "a = [l[0], l2[-1], l3[3]]"
   ]
  },
  {
   "cell_type": "code",
   "execution_count": 10,
   "id": "c5a5a70d-331c-4400-9758-494d87606168",
   "metadata": {},
   "outputs": [
    {
     "name": "stdout",
     "output_type": "stream",
     "text": [
      "[11, 23, 44]\n"
     ]
    }
   ],
   "source": [
    "print(a)"
   ]
  },
  {
   "cell_type": "code",
   "execution_count": 11,
   "id": "79cd6e48-a7a1-48cb-9dee-2285cdf475b6",
   "metadata": {},
   "outputs": [
    {
     "name": "stdout",
     "output_type": "stream",
     "text": [
      "1614222202816\n"
     ]
    }
   ],
   "source": [
    "l4 = l[:]\n",
    "print(id(l4))"
   ]
  },
  {
   "cell_type": "code",
   "execution_count": 12,
   "id": "0e259790-f1f0-469d-b2e1-e645fc5f8951",
   "metadata": {},
   "outputs": [
    {
     "name": "stdout",
     "output_type": "stream",
     "text": [
      "True 1614222202816 1614222606912\n"
     ]
    }
   ],
   "source": [
    "print(l4 == l, id(l4), id(l))"
   ]
  },
  {
   "cell_type": "code",
   "execution_count": 13,
   "id": "0a36484e-c839-4052-91da-2fbb66777602",
   "metadata": {},
   "outputs": [
    {
     "name": "stdout",
     "output_type": "stream",
     "text": [
      "6\n"
     ]
    }
   ],
   "source": [
    "#1. len() - Length of list\n",
    "print(len(l))"
   ]
  },
  {
   "cell_type": "code",
   "execution_count": 14,
   "id": "45846e73-cb9b-48cd-a90b-d0885d8e0585",
   "metadata": {},
   "outputs": [],
   "source": [
    "l = ['hi','bye','new','meow','hmm']"
   ]
  },
  {
   "cell_type": "code",
   "execution_count": 16,
   "id": "a4c615e0-e690-4ed3-91d3-014749acbbec",
   "metadata": {},
   "outputs": [
    {
     "name": "stdout",
     "output_type": "stream",
     "text": [
      "['hi', 'bye', 'new', 'meow', 'hmm', 'a', 'b', 'y', '1', '2']\n"
     ]
    }
   ],
   "source": [
    "l += \"aby12\"\n",
    "print(l)"
   ]
  },
  {
   "cell_type": "code",
   "execution_count": 17,
   "id": "959808ac-1620-481d-a748-5239da18827d",
   "metadata": {},
   "outputs": [
    {
     "name": "stdout",
     "output_type": "stream",
     "text": [
      "5\n"
     ]
    }
   ],
   "source": [
    "#2. index(element, start, stop) - Index of 1st occurence of element, error if absent or not between start stop\n",
    "print(l.index('a',2,6))"
   ]
  },
  {
   "cell_type": "code",
   "execution_count": 18,
   "id": "8c8bd627-817f-4a45-a7f6-75156e88030d",
   "metadata": {},
   "outputs": [
    {
     "name": "stdout",
     "output_type": "stream",
     "text": [
      "['hi', 'bye', 'new', 'meow', 'hmm', 'a', 'b', 'y', '1', '2', 'xyz']\n"
     ]
    }
   ],
   "source": [
    "#3. append() - Adds an element at the end - element can be anything\n",
    "l.append('xyz')\n",
    "print(l)"
   ]
  },
  {
   "cell_type": "code",
   "execution_count": 19,
   "id": "c23bdd18-d5e1-4eee-9e6d-aebe1123cdd2",
   "metadata": {},
   "outputs": [
    {
     "name": "stdout",
     "output_type": "stream",
     "text": [
      "['hi', 'bye', 'new', 'meow', 'hmm', 'a', 'b', 'y', '1', '2', 'xyz', 'x', 'y', 'z']\n",
      "['hi', 'bye', 'new', 'meow', 'hmm', 'a', 'b', 'y', '1', '2', 'xyz', 'x', 'y', 'z', 12, 23]\n"
     ]
    }
   ],
   "source": [
    "#4. extend() - Joins something/multiple elements - (iterables) i.e merges multiple elements into the list\n",
    "l.extend('xyz')\n",
    "print(l)\n",
    "\n",
    "l.extend([12,23])\n",
    "print(l)"
   ]
  },
  {
   "cell_type": "code",
   "execution_count": 28,
   "id": "55b61189-b900-4c7e-8cd4-8081ece9ba06",
   "metadata": {},
   "outputs": [
    {
     "name": "stdout",
     "output_type": "stream",
     "text": [
      "['hi', 'bye', ['banana', 'spagetti'], 'new', 'meow', 'hmm', 'a', 'b', 'y', '1', '2', 'xyz', 'x', 'y', 'z', 12, 23]\n"
     ]
    }
   ],
   "source": [
    "#5. insert(index, element) - Insert element at desired index\n",
    "l.insert(2,['banana','spagetti'])\n",
    "print(l)"
   ]
  },
  {
   "cell_type": "code",
   "execution_count": 29,
   "id": "ac4b9432-f313-463f-8261-32404d9634ce",
   "metadata": {},
   "outputs": [
    {
     "name": "stdout",
     "output_type": "stream",
     "text": [
      "['hi', 'bye', ['banana', 'spagetti'], 'new', 'meow', 'hmm', 'a', 'b', 'y', '1', '2', 'xyz', 'x', 'y', 'z', 12]\n",
      "['bye', ['banana', 'spagetti'], 'new', 'meow', 'hmm', 'a', 'b', 'y', '1', '2', 'xyz', 'x', 'y', 'z', 12]\n"
     ]
    }
   ],
   "source": [
    "#6. pop() - Removes element of the given index, if not mentioned removes last element\n",
    "l.pop()\n",
    "print(l)\n",
    "l.pop(0)\n",
    "print(l)"
   ]
  },
  {
   "cell_type": "code",
   "execution_count": 30,
   "id": "0f09275c-10e7-4934-91dd-3fc080389a6c",
   "metadata": {},
   "outputs": [
    {
     "name": "stdout",
     "output_type": "stream",
     "text": [
      "['bye', ['banana', 'spagetti'], 'new', 'meow', 'hmm', 'a', 'b', 'y', '1', '2', 'xyz', 'y', 'z', 12]\n"
     ]
    }
   ],
   "source": [
    "#7. remove() - Removes given element\n",
    "l.remove('x')\n",
    "print(l)"
   ]
  },
  {
   "cell_type": "code",
   "execution_count": 31,
   "id": "5d7c5619-5b0d-48b1-9dc0-c76987b2ca9b",
   "metadata": {},
   "outputs": [
    {
     "name": "stdout",
     "output_type": "stream",
     "text": [
      "[11, 22, 33, 44, 12, 23]\n",
      "1614222507648\n",
      "[]\n",
      "1614222507648\n"
     ]
    }
   ],
   "source": [
    "#8. clear() - Clears the list without changing the memeory address and gives us an empty list\n",
    "print(l3)\n",
    "print(id(l3))\n",
    "l3.clear()\n",
    "print(l3)\n",
    "print(id(l3))"
   ]
  },
  {
   "cell_type": "code",
   "execution_count": 32,
   "id": "e8711158-61d4-44ba-a263-2019cefd1fb7",
   "metadata": {},
   "outputs": [
    {
     "name": "stdout",
     "output_type": "stream",
     "text": [
      "1\n"
     ]
    }
   ],
   "source": [
    "#9. count() - Counts number of occurence of given element\n",
    "print(l.count('a'))"
   ]
  },
  {
   "cell_type": "code",
   "execution_count": 34,
   "id": "56bb10cb-5438-4ee0-b945-395394695255",
   "metadata": {},
   "outputs": [
    {
     "name": "stdout",
     "output_type": "stream",
     "text": [
      "[12, 'z', 'y', 'xyz', '2', '1', 'y', 'b', 'a', 'hmm', 'meow', 'new', ['banana', 'spagetti'], 'bye']\n"
     ]
    }
   ],
   "source": [
    "#10. reverse() - Reverses the list\n",
    "l.reverse()\n",
    "print(l)"
   ]
  },
  {
   "cell_type": "code",
   "execution_count": 36,
   "id": "8876fe0d-f389-4383-9c88-05e127c06331",
   "metadata": {},
   "outputs": [],
   "source": [
    "l.remove(12)"
   ]
  },
  {
   "cell_type": "code",
   "execution_count": 37,
   "id": "e1a2621f-0369-4676-aa13-4a8aa544b612",
   "metadata": {},
   "outputs": [
    {
     "name": "stdout",
     "output_type": "stream",
     "text": [
      "['z', 'y', 'xyz', '2', '1', 'y', 'b', 'a', 'hmm', 'meow', 'new', ['banana', 'spagetti'], 'bye']\n"
     ]
    }
   ],
   "source": [
    "print(l)"
   ]
  },
  {
   "cell_type": "code",
   "execution_count": 39,
   "id": "b6b295fe-696c-4d4b-b234-2cf8e7cf8d70",
   "metadata": {},
   "outputs": [
    {
     "name": "stdout",
     "output_type": "stream",
     "text": [
      "['1', '2', 'a', 'b', 'hmm', 'meow', 'new', 'xyz', 'y', 'y', 'z', 'bye']\n"
     ]
    }
   ],
   "source": [
    "l.pop(-2)\n",
    "print(l)"
   ]
  },
  {
   "cell_type": "code",
   "execution_count": 40,
   "id": "c5a969c3-78f6-4bb6-9676-738932d33e2b",
   "metadata": {},
   "outputs": [
    {
     "name": "stdout",
     "output_type": "stream",
     "text": [
      "['1', '2', 'a', 'b', 'bye', 'hmm', 'meow', 'new', 'xyz', 'y', 'y', 'z']\n"
     ]
    }
   ],
   "source": [
    "#11. sort() - Sorts the list instantly, no need list is created\n",
    "l.sort()\n",
    "print(l)"
   ]
  },
  {
   "cell_type": "code",
   "execution_count": 42,
   "id": "80df368a-e74c-43e0-9e7d-448405205716",
   "metadata": {},
   "outputs": [
    {
     "name": "stdout",
     "output_type": "stream",
     "text": [
      "['z', 'y', 'y', 'xyz', 'new', 'meow', 'hmm', 'bye', 'b', 'a', '2', '1']\n"
     ]
    }
   ],
   "source": [
    "#12. sorted() - Temporarily sorts the datatype, creates new list\n",
    "print(sorted(l, reverse = True))"
   ]
  },
  {
   "cell_type": "code",
   "execution_count": 43,
   "id": "2722abc1-1a26-4d41-970a-05db87f48e1e",
   "metadata": {},
   "outputs": [
    {
     "name": "stdout",
     "output_type": "stream",
     "text": [
      "['1', '2', 'a', 'b', 'bye', 'hmm', 'meow', 'new', 'xyz', 'y', 'y', 'z']\n"
     ]
    }
   ],
   "source": [
    "print(l)"
   ]
  },
  {
   "cell_type": "code",
   "execution_count": 44,
   "id": "6878b3c1-e724-4b70-b554-074678ffbbdc",
   "metadata": {},
   "outputs": [
    {
     "name": "stdout",
     "output_type": "stream",
     "text": [
      "['HELLO', '2', 'a', 'b', 'bye', 'hmm', 'meow', 'new', 'xyz', 'WORLD', 'y', 'z']\n"
     ]
    }
   ],
   "source": [
    "l[0], l[-3] = \"HELLO\", \"WORLD\"\n",
    "print(l)"
   ]
  },
  {
   "cell_type": "code",
   "execution_count": 45,
   "id": "1a4b58da-2d53-4a4e-ba1d-eda27d344f1a",
   "metadata": {},
   "outputs": [
    {
     "name": "stdout",
     "output_type": "stream",
     "text": [
      "['2', 'HELLO', 'WORLD', 'a', 'b', 'bye', 'hmm', 'meow', 'new', 'xyz', 'y', 'z']\n"
     ]
    }
   ],
   "source": [
    "l.sort()\n",
    "print(l)"
   ]
  },
  {
   "cell_type": "code",
   "execution_count": null,
   "id": "0779e60d-f566-4f54-8f38-df27c93c0eba",
   "metadata": {},
   "outputs": [],
   "source": []
  }
 ],
 "metadata": {
  "kernelspec": {
   "display_name": "Python 3 (ipykernel)",
   "language": "python",
   "name": "python3"
  },
  "language_info": {
   "codemirror_mode": {
    "name": "ipython",
    "version": 3
   },
   "file_extension": ".py",
   "mimetype": "text/x-python",
   "name": "python",
   "nbconvert_exporter": "python",
   "pygments_lexer": "ipython3",
   "version": "3.12.4"
  }
 },
 "nbformat": 4,
 "nbformat_minor": 5
}
