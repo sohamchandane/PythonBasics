{
 "cells": [
  {
   "cell_type": "code",
   "execution_count": 1,
   "id": "4049395f-7ada-427e-876d-c55256e4a2cd",
   "metadata": {},
   "outputs": [],
   "source": [
    "x = 10\n",
    "y = 12"
   ]
  },
  {
   "cell_type": "code",
   "execution_count": 2,
   "id": "b6885464-265a-48ec-b1ed-bcd7078e415d",
   "metadata": {},
   "outputs": [
    {
     "name": "stdout",
     "output_type": "stream",
     "text": [
      "False\n"
     ]
    }
   ],
   "source": [
    "print(x>y)"
   ]
  },
  {
   "cell_type": "code",
   "execution_count": 3,
   "id": "9b18cd7c-cfb0-4f46-9e98-73ffe2b77bba",
   "metadata": {},
   "outputs": [
    {
     "name": "stdout",
     "output_type": "stream",
     "text": [
      "True\n"
     ]
    }
   ],
   "source": [
    "print(x<y)"
   ]
  },
  {
   "cell_type": "code",
   "execution_count": 4,
   "id": "c45f299e-f33d-4dde-a27a-f11292cf02cc",
   "metadata": {},
   "outputs": [
    {
     "name": "stdout",
     "output_type": "stream",
     "text": [
      "False\n"
     ]
    }
   ],
   "source": [
    "z = 10\n",
    "print(x>z)"
   ]
  },
  {
   "cell_type": "code",
   "execution_count": 5,
   "id": "a154dc04-0abe-42a1-aa2d-59731408449c",
   "metadata": {},
   "outputs": [
    {
     "name": "stdout",
     "output_type": "stream",
     "text": [
      "False\n",
      "True\n",
      "True\n",
      "True\n"
     ]
    }
   ],
   "source": [
    "print(x<z)\n",
    "print(x<=z)\n",
    "print(x>=z)\n",
    "print(x==z)"
   ]
  },
  {
   "cell_type": "code",
   "execution_count": 6,
   "id": "3cf7bb5c-c1ab-45f0-94b7-c26f32bb9971",
   "metadata": {},
   "outputs": [
    {
     "name": "stdout",
     "output_type": "stream",
     "text": [
      "False\n"
     ]
    }
   ],
   "source": [
    "print(x !=z)"
   ]
  },
  {
   "cell_type": "code",
   "execution_count": 9,
   "id": "5ecdfeee-3b81-4df4-90bd-0fa34ea00cbb",
   "metadata": {},
   "outputs": [
    {
     "name": "stdout",
     "output_type": "stream",
     "text": [
      "False\n"
     ]
    }
   ],
   "source": [
    "print((x or y) in [12,23,34,45,56])"
   ]
  },
  {
   "cell_type": "code",
   "execution_count": 10,
   "id": "36d47092-d2fe-4308-9a36-2df43820063d",
   "metadata": {},
   "outputs": [
    {
     "name": "stdout",
     "output_type": "stream",
     "text": [
      "True\n"
     ]
    }
   ],
   "source": [
    "print(y in [12,23,34])"
   ]
  },
  {
   "cell_type": "code",
   "execution_count": 11,
   "id": "8193034f-67ae-4bc8-a5b2-c0fb30762da4",
   "metadata": {},
   "outputs": [
    {
     "name": "stdout",
     "output_type": "stream",
     "text": [
      "False\n"
     ]
    }
   ],
   "source": [
    "print(x in [12,23,34])"
   ]
  },
  {
   "cell_type": "code",
   "execution_count": 12,
   "id": "7f9278fa-3649-47ce-a06d-6b7cfc89883a",
   "metadata": {},
   "outputs": [
    {
     "name": "stdout",
     "output_type": "stream",
     "text": [
      "10\n"
     ]
    }
   ],
   "source": [
    "print((x or y))"
   ]
  },
  {
   "cell_type": "code",
   "execution_count": 13,
   "id": "6a2f11b1-e594-4ed2-a4d1-89f65b877b34",
   "metadata": {},
   "outputs": [
    {
     "name": "stdout",
     "output_type": "stream",
     "text": [
      "0b1010\n",
      "0b1100\n"
     ]
    }
   ],
   "source": [
    "print(bin(x))\n",
    "print(bin(y))"
   ]
  },
  {
   "cell_type": "code",
   "execution_count": 14,
   "id": "82fa9cd3-e118-4ad9-989c-1bd2e1c9b8fc",
   "metadata": {},
   "outputs": [
    {
     "name": "stdout",
     "output_type": "stream",
     "text": [
      "12\n"
     ]
    }
   ],
   "source": [
    "print(y or x)"
   ]
  },
  {
   "cell_type": "code",
   "execution_count": 16,
   "id": "6b852e4b-8686-4162-a25e-a39f26a7701e",
   "metadata": {},
   "outputs": [
    {
     "name": "stdout",
     "output_type": "stream",
     "text": [
      "14\n"
     ]
    }
   ],
   "source": [
    "print( x|y)"
   ]
  },
  {
   "cell_type": "code",
   "execution_count": 17,
   "id": "6929b827-e31d-4f51-859a-ecaf8bbad151",
   "metadata": {},
   "outputs": [
    {
     "name": "stdout",
     "output_type": "stream",
     "text": [
      "8\n"
     ]
    }
   ],
   "source": [
    "print(x&y)"
   ]
  },
  {
   "cell_type": "code",
   "execution_count": 18,
   "id": "af4140b1-e6b8-4132-a2c5-1d097e3edd49",
   "metadata": {},
   "outputs": [
    {
     "name": "stdout",
     "output_type": "stream",
     "text": [
      "12\n"
     ]
    }
   ],
   "source": [
    "print(x and y)"
   ]
  },
  {
   "cell_type": "code",
   "execution_count": 19,
   "id": "5407c7e5-f72e-4736-a1be-abc90605648a",
   "metadata": {},
   "outputs": [
    {
     "name": "stdout",
     "output_type": "stream",
     "text": [
      "10\n"
     ]
    }
   ],
   "source": [
    "print(y and x)"
   ]
  },
  {
   "cell_type": "code",
   "execution_count": null,
   "id": "77f50f82-9ce2-40ee-9e8d-16b33771b623",
   "metadata": {},
   "outputs": [],
   "source": []
  }
 ],
 "metadata": {
  "kernelspec": {
   "display_name": "Python 3 (ipykernel)",
   "language": "python",
   "name": "python3"
  },
  "language_info": {
   "codemirror_mode": {
    "name": "ipython",
    "version": 3
   },
   "file_extension": ".py",
   "mimetype": "text/x-python",
   "name": "python",
   "nbconvert_exporter": "python",
   "pygments_lexer": "ipython3",
   "version": "3.12.4"
  }
 },
 "nbformat": 4,
 "nbformat_minor": 5
}
