{
 "cells": [
  {
   "cell_type": "code",
   "execution_count": 1,
   "id": "7312dae1-65b8-4c15-a980-2e01c42c72cf",
   "metadata": {},
   "outputs": [
    {
     "name": "stdout",
     "output_type": "stream",
     "text": [
      "(12, 23, 34, 45, 56)\n"
     ]
    }
   ],
   "source": [
    "t = (12,23,34,45,56)\n",
    "print(t)"
   ]
  },
  {
   "cell_type": "code",
   "execution_count": 2,
   "id": "1d9c3d18-b44f-44c4-8afe-58c7efa85cfc",
   "metadata": {},
   "outputs": [
    {
     "name": "stdout",
     "output_type": "stream",
     "text": [
      "34\n"
     ]
    }
   ],
   "source": [
    "print(t[2])"
   ]
  },
  {
   "cell_type": "code",
   "execution_count": 3,
   "id": "03c36d41-a727-409f-b30d-21ddb0cf7dba",
   "metadata": {},
   "outputs": [],
   "source": [
    "t += (12,)"
   ]
  },
  {
   "cell_type": "code",
   "execution_count": 4,
   "id": "95bf80c2-effe-4df2-8874-39dde9c317f7",
   "metadata": {},
   "outputs": [
    {
     "name": "stdout",
     "output_type": "stream",
     "text": [
      "(12, 23, 34, 45, 56, 12)\n"
     ]
    }
   ],
   "source": [
    "print(t)"
   ]
  },
  {
   "cell_type": "code",
   "execution_count": 5,
   "id": "701ea6de-8068-4184-807a-377ab4168846",
   "metadata": {},
   "outputs": [
    {
     "name": "stdout",
     "output_type": "stream",
     "text": [
      "1942018903872\n"
     ]
    }
   ],
   "source": [
    "print(id(t))"
   ]
  },
  {
   "cell_type": "code",
   "execution_count": 12,
   "id": "923a640e-2cfe-48fa-b341-0d2f2bb9ce0f",
   "metadata": {},
   "outputs": [
    {
     "name": "stdout",
     "output_type": "stream",
     "text": [
      "1942018903872\n"
     ]
    }
   ],
   "source": [
    "print(id(t))"
   ]
  },
  {
   "cell_type": "code",
   "execution_count": 13,
   "id": "e3adc51c-e139-4a36-84fd-5d1a2677df58",
   "metadata": {},
   "outputs": [
    {
     "name": "stdout",
     "output_type": "stream",
     "text": [
      "(12, 23, 34, 45, 56, 12)\n"
     ]
    }
   ],
   "source": [
    "print(t)"
   ]
  },
  {
   "cell_type": "code",
   "execution_count": 14,
   "id": "48c9d800-46ab-43a2-95d5-1be99452d30c",
   "metadata": {},
   "outputs": [
    {
     "name": "stdout",
     "output_type": "stream",
     "text": [
      "(12, 23, 34, 45, 56, 12, 90) 1942045659616\n"
     ]
    }
   ],
   "source": [
    "t += (90,)\n",
    "print(t, id(t))"
   ]
  },
  {
   "cell_type": "code",
   "execution_count": 15,
   "id": "8f98454f-f5e4-4110-9634-0b16a56cfabf",
   "metadata": {},
   "outputs": [
    {
     "name": "stdout",
     "output_type": "stream",
     "text": [
      "(12, 23, 34, 45, 56, 12, 90, 91) 1942042601024\n"
     ]
    }
   ],
   "source": [
    "t += (91,)\n",
    "print(t, id(t))"
   ]
  },
  {
   "cell_type": "code",
   "execution_count": 18,
   "id": "b8535421-56f3-4396-a25a-3742dfab1683",
   "metadata": {},
   "outputs": [
    {
     "name": "stdout",
     "output_type": "stream",
     "text": [
      "(12, 23, 34, 45, 56, 12, 90, 91) 1942042601024\n"
     ]
    }
   ],
   "source": [
    "print(t, id(t))\n",
    "del t"
   ]
  },
  {
   "cell_type": "code",
   "execution_count": 19,
   "id": "05a0e239-fa46-4bc6-9fcb-b5911ca1c128",
   "metadata": {},
   "outputs": [
    {
     "ename": "NameError",
     "evalue": "name 't' is not defined",
     "output_type": "error",
     "traceback": [
      "\u001b[1;31m---------------------------------------------------------------------------\u001b[0m",
      "\u001b[1;31mNameError\u001b[0m                                 Traceback (most recent call last)",
      "Cell \u001b[1;32mIn[19], line 1\u001b[0m\n\u001b[1;32m----> 1\u001b[0m \u001b[38;5;28mprint\u001b[39m(\u001b[43mt\u001b[49m, \u001b[38;5;28mid\u001b[39m(t))\n",
      "\u001b[1;31mNameError\u001b[0m: name 't' is not defined"
     ]
    }
   ],
   "source": [
    "print(t, id(t))"
   ]
  },
  {
   "cell_type": "code",
   "execution_count": null,
   "id": "6082c84e-556a-4566-b459-3bb7d62f9ec3",
   "metadata": {},
   "outputs": [],
   "source": []
  }
 ],
 "metadata": {
  "kernelspec": {
   "display_name": "Python 3 (ipykernel)",
   "language": "python",
   "name": "python3"
  },
  "language_info": {
   "codemirror_mode": {
    "name": "ipython",
    "version": 3
   },
   "file_extension": ".py",
   "mimetype": "text/x-python",
   "name": "python",
   "nbconvert_exporter": "python",
   "pygments_lexer": "ipython3",
   "version": "3.12.4"
  }
 },
 "nbformat": 4,
 "nbformat_minor": 5
}
