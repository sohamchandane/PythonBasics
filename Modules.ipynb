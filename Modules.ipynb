{
 "cells": [
  {
   "cell_type": "code",
   "execution_count": 1,
   "id": "f701e43d-d348-4da6-bb4e-7d841f361bd7",
   "metadata": {},
   "outputs": [],
   "source": [
    "import math"
   ]
  },
  {
   "cell_type": "code",
   "execution_count": 2,
   "id": "d8aceb2f-05e4-47d7-8708-2e25a55f261b",
   "metadata": {},
   "outputs": [
    {
     "name": "stdout",
     "output_type": "stream",
     "text": [
      "1728.0\n"
     ]
    }
   ],
   "source": [
    "# .pow(base, expo) - Gives base to the power expo\n",
    "print(math.pow(12,3))"
   ]
  },
  {
   "cell_type": "code",
   "execution_count": 3,
   "id": "0baf9a4c-d1ae-442b-b717-32b416077822",
   "metadata": {},
   "outputs": [
    {
     "name": "stdout",
     "output_type": "stream",
     "text": [
      "12.0\n",
      "12.0\n"
     ]
    }
   ],
   "source": [
    "# .fabs(num) - Gives absolute value of num\n",
    "print(math.fabs(12))\n",
    "print(math.fabs(-12))"
   ]
  },
  {
   "cell_type": "code",
   "execution_count": 4,
   "id": "fd3d7dc0-4591-4390-a1a0-a97a1fcd347b",
   "metadata": {},
   "outputs": [
    {
     "name": "stdout",
     "output_type": "stream",
     "text": [
      "3.4641016151377544\n"
     ]
    }
   ],
   "source": [
    "# .sqrt(num) - Gives square root of num\n",
    "print(math.sqrt(12))"
   ]
  },
  {
   "cell_type": "code",
   "execution_count": 6,
   "id": "68d6e991-220d-4fc7-8547-857fb079f85d",
   "metadata": {},
   "outputs": [
    {
     "name": "stdout",
     "output_type": "stream",
     "text": [
      "-0.9880316240928618\n"
     ]
    }
   ],
   "source": [
    "# .sin(radians) - Give sine\n",
    "print(math.sin(30))"
   ]
  },
  {
   "cell_type": "code",
   "execution_count": 7,
   "id": "59bf948a-00c5-4e2c-b844-a95ffe50c5c0",
   "metadata": {},
   "outputs": [
    {
     "name": "stdout",
     "output_type": "stream",
     "text": [
      "3.141592653589793\n"
     ]
    }
   ],
   "source": [
    "# .pi - Gives value of pi\n",
    "print(math.pi)"
   ]
  },
  {
   "cell_type": "code",
   "execution_count": 8,
   "id": "84fc1d46-69fc-4af4-bef0-76861db1e8d8",
   "metadata": {},
   "outputs": [
    {
     "name": "stdout",
     "output_type": "stream",
     "text": [
      "0.49999999999999994\n"
     ]
    }
   ],
   "source": [
    "print(math.sin(30/180*math.pi))"
   ]
  },
  {
   "cell_type": "code",
   "execution_count": 9,
   "id": "514f4584-40c2-445a-baa1-e45b75739183",
   "metadata": {},
   "outputs": [
    {
     "name": "stdout",
     "output_type": "stream",
     "text": [
      "720\n"
     ]
    }
   ],
   "source": [
    "# .factorial(num) - Gives factorial of num\n",
    "print(math.factorial(6))"
   ]
  },
  {
   "cell_type": "code",
   "execution_count": 10,
   "id": "9eb44571-76da-4bf8-9ed0-7328bafc7bc6",
   "metadata": {},
   "outputs": [
    {
     "name": "stdout",
     "output_type": "stream",
     "text": [
      "2.718281828459045\n"
     ]
    }
   ],
   "source": [
    "# .exp(x) - Gives e to the power x\n",
    "print(math.exp(1))"
   ]
  },
  {
   "cell_type": "code",
   "execution_count": 11,
   "id": "ffff6f14-d1d7-4540-8168-d1dc19661a3b",
   "metadata": {},
   "outputs": [
    {
     "name": "stdout",
     "output_type": "stream",
     "text": [
      "1.0\n"
     ]
    }
   ],
   "source": [
    "# .log(num) - Gives natural log of num\n",
    "print(math.log(math.exp(1)))"
   ]
  }
 ],
 "metadata": {
  "kernelspec": {
   "display_name": "Python 3 (ipykernel)",
   "language": "python",
   "name": "python3"
  },
  "language_info": {
   "codemirror_mode": {
    "name": "ipython",
    "version": 3
   },
   "file_extension": ".py",
   "mimetype": "text/x-python",
   "name": "python",
   "nbconvert_exporter": "python",
   "pygments_lexer": "ipython3",
   "version": "3.12.4"
  }
 },
 "nbformat": 4,
 "nbformat_minor": 5
}
