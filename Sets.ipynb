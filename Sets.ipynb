{
 "cells": [
  {
   "cell_type": "code",
   "execution_count": 1,
   "id": "898082db-0d97-496a-882a-3ad00fc09c15",
   "metadata": {},
   "outputs": [],
   "source": [
    "s = {12,23,34,45,56,57}"
   ]
  },
  {
   "cell_type": "code",
   "execution_count": 2,
   "id": "f288f5b4-ad46-4c60-ade9-ce61b653fae9",
   "metadata": {},
   "outputs": [
    {
     "name": "stdout",
     "output_type": "stream",
     "text": [
      "{34, 23, 56, 57, 12, 45} <class 'set'> 2368973317824\n"
     ]
    }
   ],
   "source": [
    "print(s, type(s), id(s))"
   ]
  },
  {
   "cell_type": "code",
   "execution_count": 3,
   "id": "2f6697da-0d7d-47a5-b9bb-85ac485ca704",
   "metadata": {},
   "outputs": [
    {
     "name": "stdout",
     "output_type": "stream",
     "text": [
      "34 23 56 57 12 45\n"
     ]
    }
   ],
   "source": [
    "print(*s)"
   ]
  },
  {
   "cell_type": "code",
   "execution_count": 4,
   "id": "e2faf4b8-1bdf-4aec-b28b-eee10ef7b704",
   "metadata": {},
   "outputs": [
    {
     "name": "stdout",
     "output_type": "stream",
     "text": [
      "{34, 'Hi', 23, 56, 57, 12, 45}\n"
     ]
    }
   ],
   "source": [
    "s.add(\"Hi\")\n",
    "print(s)"
   ]
  },
  {
   "cell_type": "code",
   "execution_count": 5,
   "id": "8e6a454a-4a5a-4ad4-8cd1-5b0f8a0150d6",
   "metadata": {},
   "outputs": [
    {
     "name": "stdout",
     "output_type": "stream",
     "text": [
      "{34, 'Hi', 23, 56, 57, 12, 45}\n"
     ]
    }
   ],
   "source": [
    "print(s)"
   ]
  },
  {
   "cell_type": "code",
   "execution_count": 6,
   "id": "e148d950-909f-47fa-aeed-d709c86f1d03",
   "metadata": {},
   "outputs": [
    {
     "name": "stdout",
     "output_type": "stream",
     "text": [
      "{34, 'Hi', 56, 57, 12, 45}\n"
     ]
    }
   ],
   "source": [
    "s.remove(23)\n",
    "print(s)"
   ]
  },
  {
   "cell_type": "code",
   "execution_count": 7,
   "id": "0a89050a-9cf1-477b-8390-a0aadbfa04e3",
   "metadata": {},
   "outputs": [
    {
     "name": "stdout",
     "output_type": "stream",
     "text": [
      "2368973317824\n"
     ]
    }
   ],
   "source": [
    "print(id(s))"
   ]
  },
  {
   "cell_type": "code",
   "execution_count": 8,
   "id": "8cafdfe3-c1d4-4de1-adef-163358632bcd",
   "metadata": {},
   "outputs": [],
   "source": [
    "s = {1,2,3,4,5}\n",
    "s2 = {1,2,3}"
   ]
  },
  {
   "cell_type": "code",
   "execution_count": 11,
   "id": "26f8685f-e290-4f90-8dfc-722e790dd027",
   "metadata": {},
   "outputs": [
    {
     "name": "stdout",
     "output_type": "stream",
     "text": [
      "{4, 5}\n",
      "set()\n",
      "{4, 5}\n",
      "set()\n"
     ]
    }
   ],
   "source": [
    "#1. .difference(set2) - Gives difference between both sets i.e elements in set1 but not in set2\n",
    "print(s.difference(s2))\n",
    "print(s2.difference(s))\n",
    "\n",
    "#OR\n",
    "print(s - s2)\n",
    "print(s2 - s)"
   ]
  },
  {
   "cell_type": "code",
   "execution_count": 12,
   "id": "75da6bba-6e0e-4446-867c-2ebead800a8b",
   "metadata": {},
   "outputs": [
    {
     "name": "stdout",
     "output_type": "stream",
     "text": [
      "{1, 2, 3}\n",
      "{1, 2, 3}\n",
      "{1, 2, 3}\n",
      "{1, 2, 3}\n"
     ]
    }
   ],
   "source": [
    "#2. .intersection(set2) - Gives commons elements between set1 and set2\n",
    "print(s.intersection(s2))\n",
    "print(s2.intersection(s))\n",
    "\n",
    "#OR\n",
    "print(s & s2)\n",
    "print(s2 & s)"
   ]
  },
  {
   "cell_type": "code",
   "execution_count": 13,
   "id": "9d1b6bfa-8153-4d0e-8c26-56074c3d9389",
   "metadata": {},
   "outputs": [
    {
     "name": "stdout",
     "output_type": "stream",
     "text": [
      "{34, 12, 23} {1, 2, 3, 4, 5}\n",
      "{1, 2, 3, 4, 5, 34, 23, 12}\n"
     ]
    }
   ],
   "source": [
    "#3. .union(set2) - Gives a set with elements of set1 and set2\n",
    "s3 = {12,23,34}\n",
    "print(s3, s)\n",
    "\n",
    "print(s.union(s3))"
   ]
  },
  {
   "cell_type": "code",
   "execution_count": 14,
   "id": "5b65b2ce-be21-4726-a447-c84484f9f49e",
   "metadata": {},
   "outputs": [
    {
     "name": "stdout",
     "output_type": "stream",
     "text": [
      "{1, 2, 3, 4, 5}\n"
     ]
    }
   ],
   "source": [
    "print(s)"
   ]
  },
  {
   "cell_type": "code",
   "execution_count": 15,
   "id": "f8c2a4c8-3987-4e7d-af53-098f8edad4e0",
   "metadata": {},
   "outputs": [
    {
     "name": "stdout",
     "output_type": "stream",
     "text": [
      "{1, 2, 3, 4, 5, 34, 23, 12}\n"
     ]
    }
   ],
   "source": [
    "# .union(set2) is equivalent to set1 | set2\n",
    "print(s |s3)"
   ]
  },
  {
   "cell_type": "code",
   "execution_count": 16,
   "id": "55c9f7e6-65f4-425f-8f4b-78c74d8c8869",
   "metadata": {},
   "outputs": [
    {
     "name": "stdout",
     "output_type": "stream",
     "text": [
      "5\n"
     ]
    }
   ],
   "source": [
    "print(max(s))"
   ]
  },
  {
   "cell_type": "code",
   "execution_count": null,
   "id": "32927ab6-2888-41d1-bd1d-cb91cb5cf23a",
   "metadata": {},
   "outputs": [],
   "source": []
  }
 ],
 "metadata": {
  "kernelspec": {
   "display_name": "Python 3 (ipykernel)",
   "language": "python",
   "name": "python3"
  },
  "language_info": {
   "codemirror_mode": {
    "name": "ipython",
    "version": 3
   },
   "file_extension": ".py",
   "mimetype": "text/x-python",
   "name": "python",
   "nbconvert_exporter": "python",
   "pygments_lexer": "ipython3",
   "version": "3.12.4"
  }
 },
 "nbformat": 4,
 "nbformat_minor": 5
}
