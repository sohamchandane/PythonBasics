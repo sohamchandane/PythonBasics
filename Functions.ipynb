{
 "cells": [
  {
   "cell_type": "code",
   "execution_count": 1,
   "id": "97ec847d-e142-438d-acce-6b9848c4e6d5",
   "metadata": {},
   "outputs": [
    {
     "name": "stdout",
     "output_type": "stream",
     "text": [
      "35\n"
     ]
    }
   ],
   "source": [
    "def SUM(a,b):\n",
    "    return a+b\n",
    "print(SUM(12,23))"
   ]
  },
  {
   "cell_type": "code",
   "execution_count": 2,
   "id": "5b87540f-5bd1-4be5-9811-4a703f3aee97",
   "metadata": {},
   "outputs": [
    {
     "name": "stdout",
     "output_type": "stream",
     "text": [
      "(12, <class 'int'>, (23, 34, 453), <class 'tuple'>)\n"
     ]
    }
   ],
   "source": [
    "def SUM2(a, *b):\n",
    "    return a, type(a), b, type(b)\n",
    "print(SUM2(12,23,34,453))"
   ]
  },
  {
   "cell_type": "code",
   "execution_count": 3,
   "id": "63cf9b8e-a8e4-4c34-adba-075e83ea9299",
   "metadata": {},
   "outputs": [
    {
     "name": "stdout",
     "output_type": "stream",
     "text": [
      "9\n"
     ]
    }
   ],
   "source": [
    "def SUM3(a, *b):\n",
    "    return sum(b)\n",
    "print(SUM3(1,2,3,4))"
   ]
  },
  {
   "cell_type": "code",
   "execution_count": 4,
   "id": "aacded54-8b6a-4980-b4a5-65fccf97f0ed",
   "metadata": {},
   "outputs": [
    {
     "name": "stdout",
     "output_type": "stream",
     "text": [
      "55\n"
     ]
    }
   ],
   "source": [
    "def SUM4(a, *b):\n",
    "    return a+sum(b)\n",
    "print(SUM4(1,2,3,4,5,6,7,8,9,10))"
   ]
  },
  {
   "cell_type": "code",
   "execution_count": 6,
   "id": "153ba76b-e83e-44f6-809e-636003065f6e",
   "metadata": {},
   "outputs": [
    {
     "name": "stdout",
     "output_type": "stream",
     "text": [
      "('first', <class 'str'>, {'Username': 'PizZaBOi', 'Email': 'abc.xyz@gmail.com'}, <class 'dict'>)\n"
     ]
    }
   ],
   "source": [
    "def fun(a, **b):\n",
    "    return a, type(a), b, type(b)\n",
    "print(fun('first', Username='PizZaBOi', Email=\"abc.xyz@gmail.com\"))"
   ]
  },
  {
   "cell_type": "code",
   "execution_count": 9,
   "id": "cd6bcde8-7992-4197-9328-e7aa0003c137",
   "metadata": {},
   "outputs": [
    {
     "name": "stdout",
     "output_type": "stream",
     "text": [
      "(12, 13, 11)\n"
     ]
    }
   ],
   "source": [
    "def fun(a, **b):\n",
    "    return a, *b.values()\n",
    "print(fun(12, x=13, y=11))"
   ]
  },
  {
   "cell_type": "code",
   "execution_count": 11,
   "id": "d11068af-64c4-43b1-8d40-5965df10d9d6",
   "metadata": {},
   "outputs": [
    {
     "name": "stdout",
     "output_type": "stream",
     "text": [
      "35\n"
     ]
    }
   ],
   "source": [
    "f = lambda a,b: a+b\n",
    "print(f(12,23))"
   ]
  },
  {
   "cell_type": "code",
   "execution_count": 13,
   "id": "6056f778-7644-4115-8ee4-22581474ce73",
   "metadata": {},
   "outputs": [
    {
     "name": "stdout",
     "output_type": "stream",
     "text": [
      "3\n"
     ]
    }
   ],
   "source": [
    "print(f(1,2))"
   ]
  },
  {
   "cell_type": "code",
   "execution_count": 17,
   "id": "084d175e-6bc5-4dd2-bea7-293eb38377c7",
   "metadata": {},
   "outputs": [
    {
     "name": "stdout",
     "output_type": "stream",
     "text": [
      "[12, 23, 34, 12, 23, 34]\n"
     ]
    }
   ],
   "source": [
    "q = lambda lst: lst*2\n",
    "print(q([12,23,34]))"
   ]
  },
  {
   "cell_type": "code",
   "execution_count": 18,
   "id": "6571211b-ba8b-44af-a984-13c503309fdb",
   "metadata": {},
   "outputs": [
    {
     "name": "stdout",
     "output_type": "stream",
     "text": [
      "1728\n"
     ]
    }
   ],
   "source": [
    "firstCube = lambda lst: lst[0]**3\n",
    "print(firstCube([12,23,34]))"
   ]
  },
  {
   "cell_type": "code",
   "execution_count": 19,
   "id": "973d2a6e-a704-4bee-9c84-850e146a9109",
   "metadata": {},
   "outputs": [
    {
     "name": "stdout",
     "output_type": "stream",
     "text": [
      "1728\n"
     ]
    }
   ],
   "source": [
    "print(12**3)"
   ]
  },
  {
   "cell_type": "code",
   "execution_count": null,
   "id": "b4a7b222-8d22-4383-87e5-7bc323cf9ea1",
   "metadata": {},
   "outputs": [],
   "source": []
  }
 ],
 "metadata": {
  "kernelspec": {
   "display_name": "Python 3 (ipykernel)",
   "language": "python",
   "name": "python3"
  },
  "language_info": {
   "codemirror_mode": {
    "name": "ipython",
    "version": 3
   },
   "file_extension": ".py",
   "mimetype": "text/x-python",
   "name": "python",
   "nbconvert_exporter": "python",
   "pygments_lexer": "ipython3",
   "version": "3.12.4"
  }
 },
 "nbformat": 4,
 "nbformat_minor": 5
}
