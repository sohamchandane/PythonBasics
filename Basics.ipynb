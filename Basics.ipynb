{
 "cells": [
  {
   "cell_type": "code",
   "execution_count": 1,
   "id": "9484c6be-df0c-4029-90fd-1d534f1a285d",
   "metadata": {},
   "outputs": [
    {
     "name": "stdout",
     "output_type": "stream",
     "text": [
      "12 23 34 45\n"
     ]
    }
   ],
   "source": [
    "a,b,c,d = 12,23,34,45\n",
    "print(a,b,c,d)"
   ]
  },
  {
   "cell_type": "code",
   "execution_count": 2,
   "id": "5bc9e249-629a-4b4d-acb7-ac60a4d67666",
   "metadata": {},
   "outputs": [
    {
     "name": "stdout",
     "output_type": "stream",
     "text": [
      "<class 'int'> <class 'int'> <class 'int'> <class 'int'>\n"
     ]
    }
   ],
   "source": [
    "print(type(a), type(b), type(c), type(d))"
   ]
  },
  {
   "cell_type": "code",
   "execution_count": 3,
   "id": "99bd485e-b7ed-4278-9792-3cec1139eda3",
   "metadata": {},
   "outputs": [
    {
     "name": "stdout",
     "output_type": "stream",
     "text": [
      "12 23\n",
      "23 12\n"
     ]
    }
   ],
   "source": [
    "print(a,b)\n",
    "a,b = b,a\n",
    "print(a,b)"
   ]
  },
  {
   "cell_type": "code",
   "execution_count": 4,
   "id": "21979e96-2fe2-458f-88ce-ad32e1bcee39",
   "metadata": {},
   "outputs": [
    {
     "name": "stdout",
     "output_type": "stream",
     "text": [
      "1.9166666666666667 <class 'float'>\n"
     ]
    }
   ],
   "source": [
    "a = a/b\n",
    "print(a, type(a))"
   ]
  },
  {
   "cell_type": "code",
   "execution_count": 5,
   "id": "e3c42042-5c48-4c41-b7c0-2b17c5f9edc1",
   "metadata": {},
   "outputs": [
    {
     "name": "stdout",
     "output_type": "stream",
     "text": [
      "1 <class 'int'>\n",
      "1 <class 'str'>\n"
     ]
    }
   ],
   "source": [
    "a = int(a)\n",
    "print(a, type(a))\n",
    "\n",
    "a = str(a)\n",
    "print(a, type(a))"
   ]
  },
  {
   "cell_type": "code",
   "execution_count": 6,
   "id": "e3728e3f-278b-4d91-8bde-e9f5a0462116",
   "metadata": {},
   "outputs": [
    {
     "name": "stdout",
     "output_type": "stream",
     "text": [
      "13\n"
     ]
    }
   ],
   "source": [
    "a = int(a) + b\n",
    "print(a)"
   ]
  },
  {
   "cell_type": "code",
   "execution_count": 7,
   "id": "a1b055c6-40ad-4e77-8f81-1ab483246ead",
   "metadata": {},
   "outputs": [
    {
     "name": "stdout",
     "output_type": "stream",
     "text": [
      "238680\n"
     ]
    }
   ],
   "source": [
    "print(a*b*c*d)"
   ]
  },
  {
   "cell_type": "code",
   "execution_count": 9,
   "id": "4f281460-4ef8-4756-8024-be64f7d0934e",
   "metadata": {},
   "outputs": [
    {
     "name": "stdout",
     "output_type": "stream",
     "text": [
      "Sqaure: 169\n"
     ]
    }
   ],
   "source": [
    "print(\"Sqaure:\", a*a)"
   ]
  },
  {
   "cell_type": "code",
   "execution_count": 10,
   "id": "781e1977-7d50-45a0-a189-1eef0a38919d",
   "metadata": {},
   "outputs": [
    {
     "name": "stdout",
     "output_type": "stream",
     "text": [
      "(3+9j)\n"
     ]
    }
   ],
   "source": [
    "#Complex nums\n",
    "com = 3 + 9j\n",
    "print(com)"
   ]
  },
  {
   "cell_type": "code",
   "execution_count": 11,
   "id": "3fc4c158-7795-4cf7-be59-a1db72e97627",
   "metadata": {},
   "outputs": [
    {
     "name": "stdout",
     "output_type": "stream",
     "text": [
      "<class 'complex'>\n"
     ]
    }
   ],
   "source": [
    "print(type(com))"
   ]
  },
  {
   "cell_type": "code",
   "execution_count": 12,
   "id": "b4dc25d3-de48-47c6-96e2-ac06a490fcc6",
   "metadata": {},
   "outputs": [
    {
     "name": "stdout",
     "output_type": "stream",
     "text": [
      "131313\n"
     ]
    }
   ],
   "source": [
    "a = str(a)\n",
    "print(a+a+a)"
   ]
  },
  {
   "cell_type": "code",
   "execution_count": 15,
   "id": "82117dc2-68e5-45f1-bfa6-9b5db9f84fa6",
   "metadata": {},
   "outputs": [
    {
     "name": "stdout",
     "output_type": "stream",
     "text": [
      "1346\n"
     ]
    }
   ],
   "source": [
    "print(a+str(b+c))"
   ]
  },
  {
   "cell_type": "code",
   "execution_count": 16,
   "id": "46b5ba7e-485a-4036-88c9-6502a7ad0d84",
   "metadata": {},
   "outputs": [
    {
     "name": "stdout",
     "output_type": "stream",
     "text": [
      "12 34\n"
     ]
    }
   ],
   "source": [
    "print(b,c)"
   ]
  },
  {
   "cell_type": "code",
   "execution_count": null,
   "id": "c2f5e85b-2202-4b41-95d5-befaa46f56be",
   "metadata": {},
   "outputs": [],
   "source": []
  }
 ],
 "metadata": {
  "kernelspec": {
   "display_name": "Python 3 (ipykernel)",
   "language": "python",
   "name": "python3"
  },
  "language_info": {
   "codemirror_mode": {
    "name": "ipython",
    "version": 3
   },
   "file_extension": ".py",
   "mimetype": "text/x-python",
   "name": "python",
   "nbconvert_exporter": "python",
   "pygments_lexer": "ipython3",
   "version": "3.12.4"
  }
 },
 "nbformat": 4,
 "nbformat_minor": 5
}
