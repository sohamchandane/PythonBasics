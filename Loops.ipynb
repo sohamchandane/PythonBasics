{
 "cells": [
  {
   "cell_type": "code",
   "execution_count": 1,
   "id": "9769ae2b-ac93-4634-a2a6-624da6893279",
   "metadata": {},
   "outputs": [
    {
     "name": "stdout",
     "output_type": "stream",
     "text": [
      "[12, 23, 34, 45, 56, 67, 78, 89, 90]\n"
     ]
    }
   ],
   "source": [
    "lst = [12,23,34,45,56,67,78,89,90]\n",
    "print(lst)"
   ]
  },
  {
   "cell_type": "code",
   "execution_count": 2,
   "id": "421f3504-938e-4117-9534-bc5c39723863",
   "metadata": {},
   "outputs": [
    {
     "name": "stdout",
     "output_type": "stream",
     "text": [
      "12-23-34-45-56-67-78-89-90-"
     ]
    }
   ],
   "source": [
    "for x in lst:\n",
    "    print(x, end=\"-\")"
   ]
  },
  {
   "cell_type": "code",
   "execution_count": 3,
   "id": "582e2d93-7e11-4cce-a163-6c3c623757ad",
   "metadata": {},
   "outputs": [
    {
     "name": "stdout",
     "output_type": "stream",
     "text": [
      "12\n",
      "23\n",
      "45\n",
      "56\n",
      "67\n",
      "78\n",
      "89\n",
      "90\n"
     ]
    }
   ],
   "source": [
    "for x in lst:\n",
    "    if x == 34:\n",
    "        continue\n",
    "    print(x)"
   ]
  },
  {
   "cell_type": "code",
   "execution_count": 4,
   "id": "4a2e70d3-f5ec-40a9-866a-b9303d91a047",
   "metadata": {},
   "outputs": [
    {
     "name": "stdout",
     "output_type": "stream",
     "text": [
      "12\n",
      "23\n",
      "34\n",
      "45\n",
      "56\n",
      "67\n",
      "78\n",
      "89\n",
      "90\n"
     ]
    }
   ],
   "source": [
    "for x in lst:\n",
    "    if x == 23:\n",
    "        pass\n",
    "    print(x)"
   ]
  },
  {
   "cell_type": "code",
   "execution_count": 5,
   "id": "31db3fd8-9a6c-4533-977d-064707e79805",
   "metadata": {},
   "outputs": [
    {
     "name": "stdout",
     "output_type": "stream",
     "text": [
      "34 33 32 31 30 29 28 27 26 25 24 23 22 21 20 19 18 17 16 15 14 13 12 11 10 9 8 7 6 5 4 3 2 1 "
     ]
    }
   ],
   "source": [
    "for x in range(0, lst[2]):\n",
    "    print(lst[2]-x, end=\" \")"
   ]
  },
  {
   "cell_type": "code",
   "execution_count": 6,
   "id": "8bd3db02-beb0-49cb-823f-ec28419d26fd",
   "metadata": {},
   "outputs": [
    {
     "name": "stdout",
     "output_type": "stream",
     "text": [
      "12\n",
      "23\n",
      "34\n",
      "45\n",
      "56\n",
      "67\n"
     ]
    }
   ],
   "source": [
    "for x in lst:\n",
    "    if x >=77:\n",
    "        break\n",
    "    print(x)"
   ]
  },
  {
   "cell_type": "code",
   "execution_count": 11,
   "id": "bf2cdd2d-cf09-48c2-b535-64180173f6ed",
   "metadata": {},
   "outputs": [
    {
     "name": "stdout",
     "output_type": "stream",
     "text": [
      "[3, 5, 7, 11, 13, 17, 19, 23, 29]\n"
     ]
    }
   ],
   "source": [
    "primeLst = []\n",
    "isPrime = False\n",
    "limit = 30\n",
    "for num in range(2,limit):\n",
    "    for i in range(2, num):\n",
    "        if num%i==0:\n",
    "            isPrime = False\n",
    "            break\n",
    "        isPrime = True\n",
    "    if isPrime == True:\n",
    "        primeLst.append(num)\n",
    "\n",
    "print(primeLst)"
   ]
  },
  {
   "cell_type": "code",
   "execution_count": 12,
   "id": "9257aced-831f-4d76-9d15-1eb851cdcde6",
   "metadata": {},
   "outputs": [
    {
     "name": "stdout",
     "output_type": "stream",
     "text": [
      "A\n",
      "AB\n",
      "ABC\n",
      "ABCD\n",
      "ABCDE\n",
      "ABCD\n",
      "ABC\n",
      "AB\n",
      "A\n"
     ]
    }
   ],
   "source": [
    "p = 'ABCDE'\n",
    "for x in range(1,len(p)+1):\n",
    "    print(p[:x],end='\\n')\n",
    "for x in range(len(p)-1,0,-1):\n",
    "    print(p[:x], end='\\n')"
   ]
  },
  {
   "cell_type": "code",
   "execution_count": 13,
   "id": "de13e935-eb3c-42a3-9fa5-8801905a8959",
   "metadata": {},
   "outputs": [
    {
     "name": "stdout",
     "output_type": "stream",
     "text": [
      "*\n",
      "**\n",
      "***\n",
      "****\n",
      "*****\n",
      "****\n",
      "***\n",
      "**\n",
      "*\n"
     ]
    }
   ],
   "source": [
    "for y in range(1,6,1):\n",
    "    print('*'*y, end='\\n')\n",
    "for y in range(4,0,-1):\n",
    "    print('*'*y, end='\\n')"
   ]
  },
  {
   "cell_type": "code",
   "execution_count": 14,
   "id": "86242f97-4b02-44b9-ac19-b1d161cd6258",
   "metadata": {},
   "outputs": [
    {
     "name": "stdout",
     "output_type": "stream",
     "text": [
      "    *\n",
      "   **\n",
      "  ***\n",
      " ****\n",
      "*****\n"
     ]
    }
   ],
   "source": [
    "for x in range(1,6):\n",
    "    print(\" \"*(5-x) + \"*\"*x)"
   ]
  },
  {
   "cell_type": "code",
   "execution_count": 15,
   "id": "6996319d-d502-4311-b5fb-8fddc37ebbe5",
   "metadata": {},
   "outputs": [
    {
     "name": "stdout",
     "output_type": "stream",
     "text": [
      "    *\n",
      "   ***\n",
      "  *****\n",
      " *******\n",
      "*********\n"
     ]
    }
   ],
   "source": [
    "for x in range(1,6):\n",
    "    print(\" \"*(5-x) + \"*\"*(2*x-1))"
   ]
  },
  {
   "cell_type": "code",
   "execution_count": 16,
   "id": "d804c187-3bed-48df-86ed-e6405a9ebcc0",
   "metadata": {},
   "outputs": [
    {
     "name": "stdout",
     "output_type": "stream",
     "text": [
      "$\n",
      "$$\n",
      "$$$\n",
      "$$$$\n",
      "$$$$$\n"
     ]
    }
   ],
   "source": [
    "i,u=1,5\n",
    "while i<=u:\n",
    "    print(\"$\"*i, end=\"\\n\")\n",
    "    i+=1"
   ]
  }
 ],
 "metadata": {
  "kernelspec": {
   "display_name": "Python 3 (ipykernel)",
   "language": "python",
   "name": "python3"
  },
  "language_info": {
   "codemirror_mode": {
    "name": "ipython",
    "version": 3
   },
   "file_extension": ".py",
   "mimetype": "text/x-python",
   "name": "python",
   "nbconvert_exporter": "python",
   "pygments_lexer": "ipython3",
   "version": "3.12.4"
  }
 },
 "nbformat": 4,
 "nbformat_minor": 5
}
